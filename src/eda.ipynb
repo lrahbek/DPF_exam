{
 "cells": [
  {
   "cell_type": "code",
   "execution_count": null,
   "id": "5113f889",
   "metadata": {},
   "outputs": [],
   "source": [
    "## load packages\n",
    "import os \n",
    "import pathlib\n",
    "import pickle as pkl\n",
    "import gdown\n",
    "\n",
    "import sklearn\n",
    "import seaborn as sns\n",
    "import pyarrow\n",
    "import pandas as pd\n",
    "import numpy as np\n",
    "import matplotlib.pyplot as plt\n",
    "import itertools\n",
    "import re\n",
    "\n",
    "from sklearn.model_selection import train_test_split\n",
    "from sklearn.preprocessing import OneHotEncoder, OrdinalEncoder, LabelEncoder\n",
    "from sklearn.feature_extraction.text import CountVectorizer\n",
    "pd.set_option('display.max_columns', None)"
   ]
  },
  {
   "cell_type": "markdown",
   "id": "25356f9a",
   "metadata": {},
   "source": [
    "#### BILLS\n",
    "RULES: \n",
    "- Include states with only lobbying records (IA, MA, NE, NJ, RI, WI)\n",
    "- Include only bills from years where position data is available (IA: 2009-2022, MA: 2010-2021, NE: 2000-2021, NJ: 2014-2022, RI: 2018-2022, WI: 2002-2022)\n",
    "- Include bills with status avaiable and remove duplicate bills\n",
    "- Subset and use columns: state, state_unified_bill_id, bill_year, pass, ncsl_topics, ncsl_metatopics"
   ]
  },
  {
   "cell_type": "code",
   "execution_count": null,
   "id": "27cb9470",
   "metadata": {},
   "outputs": [],
   "source": [
    "states_lobby = [\"IA\", \"MA\", \"NE\", \"NJ\", \"RI\", \"WI\"] #states that only have lobby records\n",
    "#position data for the above states are avaible during the following ranges: \n",
    "pos_spans = [range(2009, 2023), range(2009, 2023), range(2000, 2023), range(2014, 2023), range(2018, 2023), range(2002, 2023)]"
   ]
  },
  {
   "cell_type": "code",
   "execution_count": null,
   "id": "61a7423a",
   "metadata": {},
   "outputs": [],
   "source": [
    "#BILLS\n",
    "bills = pd.read_parquet(\"../data/raw/chorus/bills.parquet\") #load bills data\n",
    "bills_lob = bills[bills[\"state\"].isin(states_lobby)]        #subset states with lobby records\n",
    "bills_lob = bills_lob[bills_lob[\"status\"].notna()]          #remove rows with no status metadata\n",
    "print(f\"number of duplicated bills: {len(bills_lob[bills_lob[\"state_unified_bill_id\"].duplicated()])}\")\n",
    "bills_lob.drop_duplicates(subset=\"state_unified_bill_id\",   #remove rows with duplicate bill ids\n",
    "                          ignore_index=True, inplace=True)\n",
    "bills_lob[\"pass\"] = bills_lob.index.map(bills_lob[\"status\"].isin([4,5]).to_dict())#create new col with binary pass/fail status\n",
    "bills_lob = bills_lob.replace(to_replace={\"ncsl_metatopics\":{None: list([\"M\"])},  #replace none with 'M' (so it can be made to list)\n",
    "                                          \"ncsl_topics\":{None: list([\"M\"])}})\n",
    "bills_lob[\"ncsl_topics\"] = bills_lob[\"ncsl_topics\"].str.split(\"; \")               #split topics into lists \n",
    "bills_lob[\"ncsl_metatopics\"] = bills_lob[\"ncsl_metatopics\"].str.split(\"; \")       #split topics into lists \n",
    "print(f\"number of bills after removing duplicates: {len(bills_lob)}\")\n",
    "#get year from last_action_date\n",
    "bills_lob[\"year\"] = bills_lob[\"last_action_date\"].str.split(r\"-\", expand=True)[0]\n",
    "#subset bills\n",
    "bills_lob = bills_lob[[\"state_unified_bill_id\", \"pass\",  \"state\", \"ncsl_topics\", \"ncsl_metatopics\", \"year\", \"bill_chamber\"]]"
   ]
  },
  {
   "cell_type": "code",
   "execution_count": null,
   "id": "ed76e7ea",
   "metadata": {},
   "outputs": [],
   "source": [
    "#fix year col: inspect years: none, 0000, 1969\n",
    "print(f\"number of bills where year is None, 0000 or 1969: {len(bills_lob[bills_lob[\"year\"].isin([None, \"0000\", \"1969\"])])}\")\n",
    "#set year to year-suffix from bill id in the 374 cases above\n",
    "bills_lob.loc[bills_lob[bills_lob[\"year\"].isin([None, \"0000\", \"1969\"])].index, \"year\"] = bills_lob[bills_lob[\"year\"].isin([None, \"0000\", \"1969\"])][\"state_unified_bill_id\"].str.split(\"_\", expand=True)[3]\n",
    "#set as type int \n",
    "bills_lob[\"year\"] = bills_lob[\"year\"].astype(\"int32\")"
   ]
  },
  {
   "cell_type": "code",
   "execution_count": null,
   "id": "2e8f0841",
   "metadata": {},
   "outputs": [],
   "source": [
    "#subset so bills only come fra year ranges where there are poistions from each state\n",
    "keep_ind = []\n",
    "for i, (state, span) in enumerate(zip(states_lobby, pos_spans)):\n",
    "    i_ind = bills_lob[(bills_lob[\"state\"] == state) & (bills_lob[\"year\"].isin(span))].index.tolist()\n",
    "    keep_ind = keep_ind + i_ind\n",
    "\n",
    "bills_lob = bills_lob.iloc[keep_ind]\n",
    "print(f\"number of bills after removing ones outside position ranges: {len(bills_lob)}\")\n",
    "print(f\"\\nPercentage of bills passed and failed:\\n{bills_lob[\"pass\"].value_counts(normalize = True)}\")\n",
    "#delete to free up space \n",
    "del keep_ind, i, i_ind, state, span\n",
    "bills_lob.head(3)"
   ]
  },
  {
   "cell_type": "code",
   "execution_count": null,
   "id": "91b5f08b",
   "metadata": {},
   "outputs": [],
   "source": [
    "#plot outcomes(passed/failed) by state\n",
    "fig, ax = plt.subplots(figsize=(6, 3))\n",
    "p = sns.countplot(bills_lob, x = \"state\", hue = \"pass\",stat = \"count\", palette= \"viridis\")\n",
    "sns.move_legend(p, \"upper right\", frameon = False)\n",
    "ax.set_title('Number of Bills per State and Status')\n",
    "sns.despine()\n",
    "plt.savefig(\"../figs/bills_status.png\")"
   ]
  },
  {
   "cell_type": "code",
   "execution_count": null,
   "id": "3b55a039",
   "metadata": {},
   "outputs": [],
   "source": [
    "##pallette so states keep the same colours through the eda\n",
    "states_palette = dict(zip(states_lobby, sns.color_palette(\"viridis\", 6).as_hex()))"
   ]
  },
  {
   "cell_type": "code",
   "execution_count": null,
   "id": "536a2a6d",
   "metadata": {},
   "outputs": [],
   "source": [
    "#bills per state per year\n",
    "fig, ax = plt.subplots(figsize=(10, 4))\n",
    "p = sns.lineplot(data = bills_lob.value_counts([\"state\", \"year\"]).to_frame().reset_index(), \n",
    "                 x = \"year\", y = \"count\", hue = \"state\", palette= states_palette, \n",
    "                 style=\"state\", markers=True, dashes=False)\n",
    "sns.move_legend(p, \"upper right\", bbox_to_anchor=(1.1, 0.7),  frameon = False)\n",
    "sns.despine()\n",
    "ax.set_title('Number of Bills per State and Year')\n",
    "plt.xticks([2009., 2010., 2011., 2012., 2013., 2014., 2015., 2016., 2017., 2018., 2019., 2020., 2021., 2022., ],\n",
    "           ['2009', '2010', '2011', '2012', '2013', '2014', '2015','2016','2017','2018','2019','2020','2021','2022'])\n",
    "plt.savefig(\"../figs/bills_lineplot.png\")"
   ]
  },
  {
   "cell_type": "code",
   "execution_count": null,
   "id": "271d3fbd",
   "metadata": {},
   "outputs": [],
   "source": [
    "#bills per state per year\n",
    "fig, ax = plt.subplots(figsize=(11, 4))\n",
    "p = sns.countplot(bills_lob, x = \"year\", hue = \"state\",stat = \"count\", palette= states_palette, \n",
    "                  gap=.15)\n",
    "sns.move_legend(p, \"upper center\", bbox_to_anchor=(0.5, 1.1), ncol=6,  frameon=False, title=None)\n",
    "ax.set_title('Number of Bills per State and Year', y = 1.1)\n",
    "sns.despine()\n",
    "plt.savefig(\"../figs/bills_barplot.png\")"
   ]
  },
  {
   "cell_type": "code",
   "execution_count": null,
   "id": "fcc89aa3",
   "metadata": {},
   "outputs": [],
   "source": [
    "print(f\"number of unique topics: {len(bills_lob[\"ncsl_topics\"].explode().unique())}\")\n",
    "print(f\"number of unique metatopics: {len(bills_lob[\"ncsl_metatopics\"].explode().unique())}\")\n",
    "\n",
    "fig, ax = plt.subplots(figsize=(8, 6))\n",
    "sns.countplot(y=bills_lob[\"ncsl_metatopics\"].explode(), order = bills_lob[\"ncsl_metatopics\"].explode().unique()[::-1] ,\n",
    "              hue=bills_lob[\"ncsl_metatopics\"].explode(), palette=\"viridis\")\n",
    "sns.despine()\n",
    "ax.set_title('Distribution of NCSL metatopics')\n",
    "ax.set_yticklabels(np.append(bills_lob[\"ncsl_metatopics\"].explode().unique()[::-1][0:-1], \"No NCSL metatopic assigned\"))\n",
    "plt.ylabel(\"\")\n",
    "plt.savefig(\"../figs/metatopic_counts.png\")\n",
    "del ax, fig, p"
   ]
  },
  {
   "cell_type": "markdown",
   "id": "f81c3686",
   "metadata": {},
   "source": [
    "#### POSITIONS\n",
    "\n",
    "RULES: \n",
    "- Include states with only lobbying records (IA, MA, NE, NJ, RI, WI)\n",
    "- Include from years where bills also have been collected (IA: 2009-2022, MA: 2010-2021, NE: 2010-2021, NJ: 2014-2022, RI: 2018-2022, WI: 2009-2022)\n",
    "- All bills in POSITIONS should also be in BILLS (the ones that arent represented in bills were prevously removed due to having status = NA)\n",
    "- Subset relevant columns (state_client_id, state_unified_bill_id, year, position_numeric)"
   ]
  },
  {
   "cell_type": "code",
   "execution_count": null,
   "id": "2a934109",
   "metadata": {},
   "outputs": [],
   "source": [
    "#POSITIONS\n",
    "bills_spans = [range(2009, 2024), range(2009, 2023), range(2010, 2023), range(2014, 2024), range(2018, 2024), range(2009, 2024)]\n",
    "\n",
    "positions = pd.read_parquet(\"../data/raw/chorus/positions.parquet\")#load positions\n",
    "#subset so positions only come from year ranges where there are bills from each state\n",
    "keep_ind = []\n",
    "for i, (state, span) in enumerate(zip(states_lobby, bills_spans)):\n",
    "    i_ind = positions[(positions[\"state\"] == state) & (positions[\"year\"].isin(span))].index.tolist()\n",
    "    keep_ind = keep_ind + i_ind\n",
    "positions_lob = positions.iloc[keep_ind]\n",
    "positions_lob.head(3)\n",
    "#del positions to free up space\n",
    "del positions, keep_ind, i, state, span, i_ind"
   ]
  },
  {
   "cell_type": "code",
   "execution_count": null,
   "id": "3e8423f8",
   "metadata": {},
   "outputs": [],
   "source": [
    "#check that bills in positions is also in bills df\n",
    "print(f\"number of unique bill ids in positions data: {len(positions_lob[\"state_unified_bill_id\"].unique())}\")\n",
    "print(f\"number of unique bill ids in bills data: {len(bills_lob[\"state_unified_bill_id\"].unique())}\")\n",
    "print(f\"\\nOf bills in positions data also represented in bills data:\")\n",
    "print(positions_lob[\"state_unified_bill_id\"].drop_duplicates().isin(bills_lob[\"state_unified_bill_id\"]).value_counts())\n",
    "\n",
    "### bills present in positions data but not in bills, was taken out of bills bc status value wasnt avaiable\n",
    "not_in_bills = positions_lob[~positions_lob[\"state_unified_bill_id\"].isin(bills_lob[\"state_unified_bill_id\"])][\"state_unified_bill_id\"].unique()\n",
    "print(bills[bills[\"state_unified_bill_id\"].isin(not_in_bills)][\"status\"].isna().value_counts())\n",
    "print(\"The bills not present in the bills dataset (3603) have status value NA (why they arent there)\")\n",
    "#remove the bills from positions not present in bills data\n",
    "positions_lob = positions_lob[positions_lob[\"state_unified_bill_id\"].isin(bills_lob[\"state_unified_bill_id\"])]\n",
    "del bills, not_in_bills"
   ]
  },
  {
   "cell_type": "code",
   "execution_count": null,
   "id": "d10284c9",
   "metadata": {},
   "outputs": [],
   "source": [
    "#subset relevant columns \n",
    "positions_lob = positions_lob[[\"state_client_id\", \"state\", \"state_unified_bill_id\", \"position_numeric\", \"year\"]] #keep relevant columns\n",
    "positions_lob = positions_lob.replace(to_replace={\"position_numeric\": {-1.0: \"oppose\", 0.0: \"neutral\", 1.0: \"support\"}})\n",
    "positions_lob.reset_index(drop=True, inplace=True)\n",
    "positions_lob.head(3)"
   ]
  },
  {
   "cell_type": "code",
   "execution_count": null,
   "id": "dd009750",
   "metadata": {},
   "outputs": [],
   "source": [
    "#bills per state per year\n",
    "fig, ax = plt.subplots(figsize=(10, 4))\n",
    "p = sns.lineplot(data = positions_lob.value_counts([\"state\", \"year\"]).to_frame().reset_index(), \n",
    "                 x = \"year\", y = \"count\", hue = \"state\", palette= states_palette, style=\"state\",\n",
    "                markers=True, dashes=False)\n",
    "sns.move_legend(p, \"upper right\", bbox_to_anchor=(1.1, 0.8),  frameon = False)\n",
    "sns.despine()\n",
    "ax.set_title('Number of Positions per State and Year')\n",
    "plt.xticks([2009., 2010., 2011., 2012., 2013., 2014., 2015., 2016., 2017., 2018., 2019., 2020., 2021., 2022., ],\n",
    "           ['2009', '2010', '2011', '2012', '2013', '2014', '2015','2016','2017','2018','2019','2020','2021','2022'])\n",
    "plt.savefig(\"../figs/positions_lineplot.png\")"
   ]
  },
  {
   "cell_type": "code",
   "execution_count": null,
   "id": "2508e6c6",
   "metadata": {},
   "outputs": [],
   "source": [
    "#positions per state per year\n",
    "fig, ax = plt.subplots(figsize=(10, 5))\n",
    "p = sns.countplot(positions_lob, x = \"year\", hue = \"state\",stat = \"count\", palette= states_palette, \n",
    "                  gap=.15)\n",
    "sns.move_legend(p, \"upper center\", bbox_to_anchor=(0.5, 1.1), ncol=6,  frameon=False, title=None)\n",
    "ax.set_title('Number of Positions per State and Year', y = 1.1)\n",
    "sns.despine()\n",
    "plt.savefig(\"../figs/positions_barplot.png\")"
   ]
  },
  {
   "cell_type": "code",
   "execution_count": null,
   "id": "d69eb457",
   "metadata": {},
   "outputs": [],
   "source": [
    "fig, ax = plt.subplots(figsize=(6, 3))\n",
    "p = sns.countplot(positions_lob, x = \"state\", hue = \"position_numeric\",stat = \"count\", \n",
    "                  palette= \"viridis\",  gap = .1)\n",
    "sns.move_legend(p, \"upper center\",  bbox_to_anchor=(0.5, 1.1), ncol=3,  frameon = False, title=None)\n",
    "ax.set_title('Number of Positions per State and Type', y=1.1)\n",
    "sns.despine()\n",
    "plt.savefig(\"../figs/position_type.png\")\n",
    "del fig, ax, p"
   ]
  },
  {
   "cell_type": "markdown",
   "id": "a5fe5483",
   "metadata": {},
   "source": [
    "#### BLOCKS\n",
    "\n",
    "RULES: \n",
    "- Include states with only lobbying records (IA, MA, NE, NJ, RI, WI)\n",
    "- rename enity id to state client id \n",
    "- subset only rows with clients (not bills)          \n",
    "- merge with positions: (orgs only in blocks are dropped )"
   ]
  },
  {
   "cell_type": "code",
   "execution_count": null,
   "id": "ef55c13b",
   "metadata": {},
   "outputs": [],
   "source": [
    "blocks = pd.read_parquet(\"../data/raw/chorus/block_assignments.parquet\")#load positions\n",
    "blocks = blocks.rename(columns={\"entity_id\": \"state_client_id\"})        #rename to state_client_id \n",
    "blocks = blocks[blocks[\"state\"].isin(states_lobby)]                     #only states with lobby recs\n",
    "blocks = blocks[blocks[\"state_client_id\"].str.match(r\"[A-Z][A-Z]_\\d+\")] #keep only rows with clients\n",
    "print(f\"Number of client ids in blocks: {len(blocks)}\\nnumber of clients per {blocks[\"state\"].value_counts()}\")\n",
    "blocks[\"block_1\"] = blocks[\"block_1\"].astype(str) #change block_1 type to str\n",
    "blocks.head(4)"
   ]
  },
  {
   "cell_type": "code",
   "execution_count": null,
   "id": "e33b894e",
   "metadata": {},
   "outputs": [],
   "source": [
    "positions_blocks = positions_lob.merge(blocks, how=\"left\", on=[\"state_client_id\", \"state\"], indicator=True)\n",
    "print(f\"number of client ids not in blocks: {len(positions_blocks.loc[positions_blocks[\"_merge\"] == \"left_only\", \"state_client_id\"].unique())}\")\n",
    "#remove rows where no blocks have been assigned \n",
    "positions_blocks = positions_blocks[positions_blocks[\"_merge\"] == \"both\"]\n",
    "print(f\"number of positions in total after cleaning: {len(positions_blocks)}\")"
   ]
  },
  {
   "cell_type": "markdown",
   "id": "cc75371e",
   "metadata": {},
   "source": [
    "#### MERGE DATASETS"
   ]
  },
  {
   "cell_type": "code",
   "execution_count": null,
   "id": "ee7314b3",
   "metadata": {},
   "outputs": [],
   "source": [
    "pb = positions_blocks[[\"state_unified_bill_id\", \"state_client_id\", \"position_numeric\", \"block_1\"]].sort_values(\"state_unified_bill_id\").reset_index(drop=True)"
   ]
  },
  {
   "cell_type": "code",
   "execution_count": null,
   "id": "a8726da7",
   "metadata": {},
   "outputs": [],
   "source": [
    "#count df: bill id, position, block, count\n",
    "pb_counts = pd.DataFrame(pb.value_counts([\"state_unified_bill_id\", \"position_numeric\", \"block_1\"], sort = False)).reset_index()\n",
    "print(pb_counts.head(1))\n",
    "#pos list df: pivot df to get only one row per bill\n",
    "pb_pos_list= pd.DataFrame(pb_counts.groupby([\"state_unified_bill_id\", \"position_numeric\"])[\"block_1\"].apply(list)).reset_index().pivot(index = \"state_unified_bill_id\", columns= \"position_numeric\", values=\"block_1\").reset_index().replace({None: list([\"N\"])})\n",
    "#rename position headers \n",
    "pb_pos_list.rename(columns={\"neutral\":\"neut_blocks\", \"oppose\":\"opp_blocks\", \"support\":\"sup_blocks\"}, inplace=True)\n",
    "print(pb_pos_list.head(1))\n",
    "#count list: pivot to get counts (1 per bill)\n",
    "pb_count_list= pd.DataFrame(pb_counts.groupby([\"state_unified_bill_id\", \"position_numeric\"])[\"count\"].apply(list)).reset_index().pivot(index = \"state_unified_bill_id\", columns= \"position_numeric\", values=\"count\").reset_index().replace({None: list([0])})\n",
    "pb_count_list.rename(columns={\"neutral\":\"neut_counts\", \"oppose\":\"opp_counts\", \"support\":\"sup_counts\"}, inplace=True)\n",
    "print(pb_count_list.head(1))"
   ]
  },
  {
   "cell_type": "code",
   "execution_count": null,
   "id": "cb55f460",
   "metadata": {},
   "outputs": [],
   "source": [
    "##merge on bill_id\n",
    "pb_list = pb_pos_list.merge(pb_count_list, on=\"state_unified_bill_id\", how=\"left\")"
   ]
  },
  {
   "cell_type": "code",
   "execution_count": null,
   "id": "d3e4984f",
   "metadata": {},
   "outputs": [],
   "source": [
    "#MERGE BILLS AND POSITIONS DATA (PB_LIST)\n",
    "features = bills_lob.merge(pb_list, on=\"state_unified_bill_id\", how=\"left\", indicator=True)\n",
    "\n",
    "#delete dfs to free up space\n",
    "del bills_lob, bills_spans, blocks, pb, pb_count_list, pb_counts, pb_list, pb_pos_list, pos_spans, positions_blocks, positions_lob"
   ]
  },
  {
   "cell_type": "code",
   "execution_count": null,
   "id": "eab4d48d",
   "metadata": {},
   "outputs": [],
   "source": [
    "#FIX NANS \n",
    "features[\"neut_blocks\"] = features[\"neut_blocks\"].replace({None: list([\"N\"])})\n",
    "features[\"opp_blocks\"] = features[\"opp_blocks\"].replace({None: list([\"N\"])})\n",
    "features[\"sup_blocks\"] = features[\"sup_blocks\"].replace({None: list([\"N\"])})\n",
    "features[\"neut_counts\"] = features[\"neut_counts\"].replace({None: list([0])})\n",
    "features[\"opp_counts\"] = features[\"opp_counts\"].replace({None: list([0])})\n",
    "features[\"sup_counts\"] = features[\"sup_counts\"].replace({None: list([0])})"
   ]
  },
  {
   "cell_type": "code",
   "execution_count": null,
   "id": "598af728",
   "metadata": {},
   "outputs": [],
   "source": [
    "##rename some vars \n",
    "n_samples = len(features)               \n",
    "print(f\"number of samples: {n_samples}\")\n",
    "#change pass from false/true to failed/passed\n",
    "features[\"pass\"] = np.where(features['pass'] == True, 'passed', 'failed')\n",
    "#change _merge values to indication of lobby or no lobby activty\n",
    "features[\"_merge\"] = np.where(features['_merge'] == \"both\", 'lobby', 'no_lobby')\n",
    "features = features.rename(columns={\"_merge\": \"lobbied\"})\n",
    "print(f\"distribution of bills with position data and no position data:\\n{features[\"lobbied\"].value_counts(normalize=True)}\")\n",
    "features.head(5)"
   ]
  },
  {
   "cell_type": "code",
   "execution_count": null,
   "id": "2f31c1e4",
   "metadata": {},
   "outputs": [],
   "source": [
    "fig, ax = plt.subplots(figsize=(6, 3))\n",
    "p = sns.countplot(features, x = \"lobbied\", hue = \"state\",stat = \"count\", \n",
    "                  palette= states_palette, gap = .1)\n",
    "sns.move_legend(p, \"upper center\",  bbox_to_anchor=(0.55, 1.15), ncol=6,  frameon = False, title=None)\n",
    "ax.set_title('Whether bills have been lobbyed on', y=1.15)\n",
    "sns.despine()\n",
    "plt.savefig(\"../figs/position_type.png\")\n",
    "del fig, ax, p"
   ]
  },
  {
   "cell_type": "code",
   "execution_count": null,
   "id": "e15c66b3",
   "metadata": {},
   "outputs": [],
   "source": [
    "#fix chamber value \n",
    "features[\"cha\"] = features[\"bill_chamber\"].apply(lambda x: \"H\" if x[0] == \"H\" or x[0] == \"A\" else \"S\")\n",
    "print(\"Type of 'bill_chamber' abbr. for each state:\")\n",
    "print(features.value_counts([\"state\", \"cha\", \"bill_chamber\"], sort=False))"
   ]
  },
  {
   "cell_type": "markdown",
   "id": "7b587ff6",
   "metadata": {},
   "source": [
    "#### LEGISLATURE COMPOSITION\n",
    "\n"
   ]
  },
  {
   "cell_type": "code",
   "execution_count": null,
   "id": "6b6439fa",
   "metadata": {},
   "outputs": [],
   "source": [
    "state_ide = pd.read_csv(\"../data/raw/shormccarty/shor mccarty 1993-2020 state aggregate data April 2023 release.tab\", sep='\\t')\n",
    "state_ide = state_ide[state_ide[\"st\"].isin(states_lobby)]                       #subset states\n",
    "state_ide = state_ide[state_ide[\"year\"].isin(features[\"year\"].unique())]   #subset years\n",
    "#subset cols \n",
    "state_ide = state_ide[[\n",
    "    'st', 'year', 'hou_chamber', 'sen_chamber', 'hou_dem', 'hou_rep', 'hou_majority', 'hou_minority',\n",
    "    'hou_dem_mean', 'hou_rep_mean', 'sen_dem', 'sen_rep', 'sen_majority', 'sen_minority', 'sen_dem_mean', \n",
    "    'sen_rep_mean', 'h_diffs', 's_diffs', 'h_distance', 's_distance', 'h_dem_sd', 's_dem_sd', 'h_rep_sd', \n",
    "    's_rep_sd', 'h_chamber_sd', 's_chamber_sd', 'hou_dem_error', 'hou_chamber_error', 'hou_rep_error', \n",
    "    'hou_majority_error', 'sen_dem_error', 'sen_chamber_error', 'sen_rep_error', 'sen_majority_error']]\n",
    "state_ide = state_ide.rename(columns={\"st\": \"state\"})"
   ]
  },
  {
   "cell_type": "code",
   "execution_count": null,
   "id": "30ae0c76",
   "metadata": {},
   "outputs": [],
   "source": [
    "#split df and rbind\n",
    "sta_sen = state_ide.filter(regex=r'sen|s_|year|state').reset_index(drop=True)\n",
    "sta_hou = state_ide.filter(regex=r'hou|h_|year|state').reset_index(drop=True)\n",
    "sta_sen.loc[0:72, \"cha\"] = ['S']*72  #add chamber col\n",
    "sta_hou.loc[0:72, \"cha\"] = ['H']*72  #add chamber col\n",
    "sta_sen.columns = sta_sen.columns.str.removeprefix(\"sen_\").str.removeprefix(\"s_\")\n",
    "sta_hou.columns = sta_hou.columns.str.removeprefix(\"hou_\").str.removeprefix(\"h_\")\n",
    "#concat!\n",
    "state_ide = pd.concat([sta_sen, sta_hou]) "
   ]
  },
  {
   "cell_type": "code",
   "execution_count": null,
   "id": "8b28f6fa",
   "metadata": {},
   "outputs": [],
   "source": [
    "#MERGE FEATURES AND STATE_IDE\n",
    "features = features.merge(state_ide, on=[\"state\", \"year\", \"cha\"], how=\"left\")\n",
    "#split y and X\n",
    "y = features[\"pass\"]"
   ]
  },
  {
   "cell_type": "code",
   "execution_count": null,
   "id": "31eedd15",
   "metadata": {},
   "outputs": [],
   "source": [
    "X = features[[\"state\", \"ncsl_metatopics\", \"cha\", \"lobbied\", \"neut_blocks\", \"opp_blocks\", \"sup_blocks\",\n",
    "              \"neut_counts\", \"opp_counts\", \"sup_counts\", \"chamber\", \"dem\", \"rep\", \"majority\", \"minority\", \n",
    "              \"dem_mean\", \"rep_mean\", \"diffs\", \"distance\"]]"
   ]
  },
  {
   "cell_type": "code",
   "execution_count": null,
   "id": "b82c7302",
   "metadata": {},
   "outputs": [],
   "source": [
    "###save selected features to parquet \n",
    "with open(\"../data/preprocessed/features.pkl\", 'wb') as file:\n",
    "    pkl.dump((X,y), file)"
   ]
  },
  {
   "cell_type": "markdown",
   "id": "4f4b551f",
   "metadata": {},
   "source": [
    "### FEATURE TRANSFORMATIONS\n",
    "\n",
    "- PASS: outcome - remove from remaining data !\n",
    "- STATE: one hot encoding\n",
    "- TOPICS: multi-var encoding\n",
    "- METATOPICS: multi-var encoding\n",
    "- YEAR: ordinal encoding\n",
    "- BLOCKS: multi-var encoding\n",
    "- COUNTS: multi-var enc structure; but keeping values and log transforming"
   ]
  },
  {
   "cell_type": "code",
   "execution_count": null,
   "id": "52d65cb5",
   "metadata": {},
   "outputs": [],
   "source": [
    "#get saved features \n",
    "with open('../data/preprocessed/features.pkl', 'rb') as file:\n",
    "    features = pkl.load(file)\n"
   ]
  },
  {
   "cell_type": "code",
   "execution_count": null,
   "id": "3868dcd0",
   "metadata": {},
   "outputs": [],
   "source": [
    "#STATES\n",
    "enc_states = OneHotEncoder()\n",
    "X_states = enc_states.fit_transform(features[[\"state\"]].to_numpy())\n",
    "names_states = enc_states.get_feature_names_out([\"state\"]) \n",
    "print(f\"X_states have same length as n_samples: {X_states.shape[0] == n_samples}\")\n",
    "\n",
    "#LOBBIED\n",
    "enc_lobbied = OneHotEncoder()\n",
    "X_lobbied = enc_lobbied.fit_transform(features[[\"lobbied\"]].to_numpy())\n",
    "names_lobbied = enc_lobbied.get_feature_names_out([\"lobbied\"]) \n",
    "print(f\"X_lobbied have same length as n_samples: {X_lobbied.shape[0] == n_samples}\")\n",
    "\n",
    "#TOPICS & METATOPICS\n",
    "enc_topics = CountVectorizer(analyzer=lambda lst: lst)\n",
    "X_topics = enc_topics.fit_transform(features[\"ncsl_topics\"]).toarray()\n",
    "names_topics = enc_topics.get_feature_names_out() \n",
    "print(f\"X_topics have same length as n_samples: {X_topics.shape[0] == n_samples}\")\n",
    "\n",
    "enc_metatopics = CountVectorizer(analyzer=lambda lst: lst)\n",
    "X_metatopics = enc_metatopics.fit_transform(features[\"ncsl_metatopics\"]).toarray()\n",
    "names_metatopics = enc_metatopics.get_feature_names_out() \n",
    "print(f\"X_metatopics have same length as n_samples: {X_metatopics.shape[0] == n_samples}\")\n",
    "\n",
    "#BLOCKS: NEUTRAL, OPPOSE, SUPPORT\n",
    "enc_blocks = CountVectorizer(analyzer=lambda lst: lst)\n",
    "#concatenate neut_blocks, opp_blocks and sup_blocks and fit encoder to them\n",
    "enc_blocks.fit(np.concatenate((features[\"neut_blocks\"].to_numpy(), features[\"opp_blocks\"].to_numpy(), features[\"sup_blocks\"].to_numpy())))\n",
    "blocks_names = enc_blocks.get_feature_names_out()\n",
    "#transform each of the cols \n",
    "X_neut_blocks = enc_blocks.transform(features[\"neut_blocks\"]).toarray()\n",
    "X_sup_blocks = enc_blocks.transform(features[\"sup_blocks\"]).toarray()\n",
    "X_opp_blocks = enc_blocks.transform(features[\"opp_blocks\"]).toarray()\n",
    "\n",
    "#BLOCKS: COUNTS\n",
    "#assign count values to given block indeces in each of the position cols\n",
    "x_opp_counts = features[\"opp_counts\"] #count features: oppose\n",
    "x_sup_counts = features[\"sup_counts\"] #count features: support\n",
    "x_neut_counts = features[\"neut_counts\"] #count features: neutral\n",
    "\n",
    "X_opp_blocks = block_counts(X_opp_blocks, x_opp_counts)\n",
    "X_sup_blocks = block_counts(X_sup_blocks, x_sup_counts)\n",
    "X_neut_blocks = block_counts(X_neut_blocks, x_neut_counts)\n",
    "print(f\"X_neut_blocks have same length as n_samples: {X_neut_blocks.shape[0] == n_samples}\\nX_opp_blocks have same length as n_samples: {X_opp_blocks.shape[0] == n_samples}\\nX_sup_blocks have same length as n_samples: {X_sup_blocks.shape[0] == n_samples}\\n\")\n",
    "\n",
    "#YEARS\n",
    "years = [[2009, 2010, 2011, 2012, 2013, 2014, 2015, 2016, 2017, 2018, 2019, 2020, 2021, 2022]]\n",
    "enc_year = OrdinalEncoder(categories= years, dtype=\"int32\")\n",
    "X_year = enc_year.fit_transform(features[[\"bill_year\"]].to_numpy())\n",
    "names_year = enc_year.get_feature_names_out([\"bill_year\"])\n",
    "enc_year.categories_\n",
    "print(f\"X_year have same length as n_samples: {X_year.shape[0] == n_samples}\")"
   ]
  }
 ],
 "metadata": {
  "kernelspec": {
   "display_name": "env",
   "language": "python",
   "name": "python3"
  },
  "language_info": {
   "codemirror_mode": {
    "name": "ipython",
    "version": 3
   },
   "file_extension": ".py",
   "mimetype": "text/x-python",
   "name": "python",
   "nbconvert_exporter": "python",
   "pygments_lexer": "ipython3",
   "version": "3.12.3"
  }
 },
 "nbformat": 4,
 "nbformat_minor": 5
}
