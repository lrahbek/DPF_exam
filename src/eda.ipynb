{
 "cells": [
  {
   "cell_type": "markdown",
   "id": "1e5b214e",
   "metadata": {},
   "source": [
    "## Exploratory Data Analysis"
   ]
  },
  {
   "cell_type": "markdown",
   "id": "9791c190",
   "metadata": {},
   "source": [
    "#### Load packages and data"
   ]
  },
  {
   "cell_type": "code",
   "execution_count": 1,
   "id": "be2432af",
   "metadata": {},
   "outputs": [],
   "source": [
    "# LOAD PACKAGES\n",
    "import os \n",
    "from tqdm import notebook\n",
    "import pathlib\n",
    "import pickle as pkl\n",
    "import matplotlib\n",
    "import gdown\n",
    "import itertools\n",
    "from pooch import DOIDownloader\n",
    "\n",
    "import seaborn as sns\n",
    "import pandas as pd\n",
    "import numpy as np\n",
    "import matplotlib.pyplot as plt\n",
    "import itertools\n",
    "import re\n",
    "from data_preperation import *"
   ]
  },
  {
   "cell_type": "code",
   "execution_count": null,
   "id": "777b6da2",
   "metadata": {},
   "outputs": [],
   "source": [
    "# DOWNLOAD DATA FROM WEB\n",
    "download_shormccarty()\n",
    "download_chorus()"
   ]
  },
  {
   "cell_type": "code",
   "execution_count": 2,
   "id": "07a8c1ff",
   "metadata": {},
   "outputs": [],
   "source": [
    "# LOAD DATA FROM FILE \n",
    "chorus_folder = \"../data/raw/chorus\"\n",
    "bills = pd.read_parquet(os.path.join(chorus_folder, \"bills.parquet\"))\n",
    "positions = pd.read_parquet(os.path.join(chorus_folder, \"positions.parquet\"))\n",
    "blocks = pd.read_parquet(os.path.join(chorus_folder, \"block_assignments.parquet\"))\n",
    "\n",
    "ideology = pd.read_csv(\"../data/raw/shormccarty/state_ideology.tab\", sep='\\t')"
   ]
  },
  {
   "cell_type": "markdown",
   "id": "1c438382",
   "metadata": {},
   "source": [
    "#### Subset data\n",
    "- States with lobbying records: [\"IA\", \"MA\", \"NE\", \"NJ\", \"RI\", \"WI\"] \n",
    "- Years where all relevant data (ideology, positions, bills) is available for each state: \n",
    "    - IA: 2009-2020\n",
    "    - MA: 2009-2020\n",
    "    - NE: 2010-2020\n",
    "    - NJ: 2014-2020\n",
    "    - RI: 2018-2020\n",
    "    - WI: 2009-2020"
   ]
  },
  {
   "cell_type": "code",
   "execution_count": 4,
   "id": "b9b11ab7",
   "metadata": {},
   "outputs": [],
   "source": [
    "states_lobby = [\"IA\", \"MA\", \"NE\", \"NJ\", \"RI\", \"WI\"] \n",
    "state_name_dicts = dict(zip(states_lobby, [\"iowa\", \"massachusetts\", \"nebraska\", \"new jersey\", \"rhode island\", \"wisconsin\"]))\n",
    "time_ranges = [range(2009, 2021), range(2009, 2021), range(2010, 2021), \n",
    "               range(2014, 2021), range(2018, 2021), range(2009, 2021)]\n",
    "states_palette = dict(zip(states_lobby, sns.color_palette(\"viridis\", 6).as_hex())) #palette for plots\n",
    "states_markers = dict(zip(states_lobby, ['o', 'D', 's','P', 'X',  'd']))"
   ]
  },
  {
   "cell_type": "markdown",
   "id": "6d4f302d",
   "metadata": {},
   "source": [
    "##### BILLS"
   ]
  },
  {
   "cell_type": "code",
   "execution_count": 5,
   "id": "572306fb",
   "metadata": {},
   "outputs": [
    {
     "name": "stdout",
     "output_type": "stream",
     "text": [
      "bills cleaned\n",
      "Total number of samples (bills) after cleaning: 127829\n",
      "\n",
      "Proportion of bills passed and failed:\n",
      "pass\n",
      "failed    0.880254\n",
      "passed    0.119746\n",
      "Name: proportion, dtype: float64\n",
      "\n",
      "Number of bills passed and failed:\n",
      "pass\n",
      "failed    112522\n",
      "passed     15307\n",
      "Name: count, dtype: int64\n",
      "\n",
      "Proportion of bills with one or more assigned metatopics:\n",
      "ncsl_metatopics\n",
      "no NCSL topics         0.84254\n",
      "assigned NCSL topic    0.15746\n",
      "Name: proportion, dtype: float64\n"
     ]
    }
   ],
   "source": [
    "#BILLS:\n",
    "bills_sub = clean_bills(bills, states_lobby, time_ranges, state_name_dicts)\n",
    "print(f\"Total number of samples (bills) after cleaning: {len(bills_sub)}\\n\")\n",
    "print(f\"Proportion of bills passed and failed:\\n{bills_sub[\"pass\"].value_counts(normalize = True)}\\n\")\n",
    "print(f\"Number of bills passed and failed:\\n{bills_sub[\"pass\"].value_counts()}\")\n",
    "print(f\"\\nProportion of bills with one or more assigned metatopics:\\n{bills_sub[\"ncsl_metatopics\"].apply(lambda x: \"no NCSL topics\" if x == [\"M\"]  else \"assigned NCSL topic\").value_counts(normalize=True)}\")"
   ]
  },
  {
   "cell_type": "code",
   "execution_count": 6,
   "id": "1157047a",
   "metadata": {},
   "outputs": [
    {
     "name": "stdout",
     "output_type": "stream",
     "text": [
      "\n",
      "Samples (bills) per state and status:\n",
      "state  pass  \n",
      "IA     failed    15634\n",
      "       passed     1831\n",
      "MA     failed    40258\n",
      "       passed     3163\n",
      "NE     failed     5673\n",
      "       passed     3648\n",
      "NJ     failed    36380\n",
      "       passed     2444\n",
      "RI     failed     4612\n",
      "       passed     2212\n",
      "WI     failed     9965\n",
      "       passed     2009\n",
      "Name: count, dtype: int64\n"
     ]
    }
   ],
   "source": [
    "print(f\"\\nSamples (bills) per state and status:\\n{bills_sub.value_counts([\"state\", \"pass\"], sort=False).T}\")"
   ]
  },
  {
   "cell_type": "code",
   "execution_count": null,
   "id": "9fe14c53",
   "metadata": {},
   "outputs": [],
   "source": [
    "#PLOT BILLS: STATUS\n",
    "fig, ax = plt.subplots(figsize=(6, 4))\n",
    "p = sns.countplot(bills_sub, x = \"state\", hue = \"pass\",stat = \"count\", palette= \"viridis\")\n",
    "sns.move_legend(p, \"upper right\", frameon = False, title=None)\n",
    "ax.set_title('Number of Bills per State and Status')\n",
    "sns.despine()\n",
    "plt.savefig(\"../out/figs/bills_status.png\", bbox_inches='tight', dpi = 1000)"
   ]
  },
  {
   "cell_type": "code",
   "execution_count": null,
   "id": "634688fb",
   "metadata": {},
   "outputs": [],
   "source": [
    "#PLOT BILLS: COUNTS (LINEPLOT)\n",
    "fig, ax = plt.subplots(figsize=(10, 4))\n",
    "p = sns.lineplot(data = bills_sub.value_counts([\"state\", \"year\"]).to_frame().reset_index(), \n",
    "                 x = \"year\", y = \"count\", hue = \"state\", palette= states_palette, \n",
    "                 style=\"state\", markers=states_markers, dashes=False)\n",
    "sns.move_legend(p, \"upper right\", bbox_to_anchor=(1.1, 0.7),  frameon = False)\n",
    "sns.despine()\n",
    "ax.set_title('Number of Bills per State and Year')\n",
    "plt.xticks([2009., 2010., 2011., 2012., 2013., 2014., 2015., 2016., 2017., 2018., 2019., 2020.],\n",
    "           ['2009', '2010', '2011', '2012', '2013', '2014', '2015','2016','2017','2018','2019','2020'])\n",
    "plt.savefig(\"../out/figs/bills_lineplot.png\", bbox_inches='tight', dpi = 1000)"
   ]
  },
  {
   "cell_type": "code",
   "execution_count": null,
   "id": "5858f79a",
   "metadata": {},
   "outputs": [],
   "source": [
    "#PLOT BILLS: COUNTS (BARPLOT)\n",
    "fig, ax = plt.subplots(figsize=(7, 4))\n",
    "p = sns.countplot(bills_sub, x=\"year\", hue=\"state\", stat=\"count\", palette=states_palette, gap=.15)\n",
    "sns.move_legend(p, \"upper center\", bbox_to_anchor=(0.5, 1.1), ncol=6,  frameon=False, title=None)\n",
    "ax.set_title('Number of Bills per State and Year', y=1.1)\n",
    "sns.despine()\n",
    "plt.savefig(\"../out/figs/bills_barplot.png\", bbox_inches='tight', dpi=1000)"
   ]
  },
  {
   "cell_type": "code",
   "execution_count": null,
   "id": "5c600e87",
   "metadata": {},
   "outputs": [],
   "source": [
    "#PLOT BILLS: NCSL METATOPICS IN TOTAL\n",
    "print(f\"number of unique metatopics: {len(bills_sub[\"ncsl_metatopics\"].explode().unique())}\")\n",
    "fig, ax = plt.subplots(figsize=(8, 6))\n",
    "sns.countplot(y=bills_sub[\"ncsl_metatopics\"].explode(), hue=bills_sub[\"ncsl_metatopics\"].explode(),\n",
    "              order = bills_sub[\"ncsl_metatopics\"].explode().unique()[::-1], palette=\"viridis\")\n",
    "sns.despine()\n",
    "ax.set_title('Distribution of NCSL metatopics')\n",
    "ax.set_yticklabels(np.append(bills_sub[\"ncsl_metatopics\"].explode().unique()[::-1][0:-1], \"No NCSL metatopic assigned\"))\n",
    "plt.ylabel(\"\")\n",
    "plt.savefig(\"../out/figs/metatopic_counts.png\", bbox_inches='tight', dpi=1000)"
   ]
  },
  {
   "cell_type": "markdown",
   "id": "d778132d",
   "metadata": {},
   "source": [
    "##### IDEOLOGY"
   ]
  },
  {
   "cell_type": "code",
   "execution_count": 7,
   "id": "2f1800fb",
   "metadata": {},
   "outputs": [
    {
     "name": "stdout",
     "output_type": "stream",
     "text": [
      "ideology cleaned\n"
     ]
    }
   ],
   "source": [
    "#IDEOLOGY\n",
    "bills_ide = clean_ideology(ideology, bills_sub, states_lobby)\n",
    "#save summary stats \n",
    "round(bills_ide[[\"state\", \"year\", \"chamber\", \"dem\", \"rep\", \"majority\", \"minority\", \"dem_mean\", \n",
    "           \"rep_mean\", \"diffs\", \"distance\"]].describe(), 3).to_csv(\n",
    "            \"../out/ideology_summary.txt\", sep=\"\\t\")"
   ]
  },
  {
   "cell_type": "markdown",
   "id": "3df1e214",
   "metadata": {},
   "source": [
    "##### POSITIONS"
   ]
  },
  {
   "cell_type": "code",
   "execution_count": 8,
   "id": "c543a3aa",
   "metadata": {},
   "outputs": [
    {
     "name": "stdout",
     "output_type": "stream",
     "text": [
      "positions cleaned\n"
     ]
    }
   ],
   "source": [
    "#POSITIONS\n",
    "positions_sub = clean_positions(positions, bills_sub, states_lobby, time_ranges)"
   ]
  },
  {
   "cell_type": "code",
   "execution_count": null,
   "id": "0d0d4067",
   "metadata": {},
   "outputs": [],
   "source": [
    "#PLOTS: COUNTS (LINEPLOT)\n",
    "fig, ax = plt.subplots(figsize=(10, 4))\n",
    "p = sns.lineplot(data = positions_sub.value_counts([\"state\", \"year\"]).to_frame().reset_index(), \n",
    "                 x = \"year\", y = \"count\", hue = \"state\", palette= states_palette, style=\"state\",\n",
    "                 markers=states_markers, dashes=False)\n",
    "sns.move_legend(p, \"upper right\", bbox_to_anchor=(1.1, 0.7),  frameon = False)\n",
    "sns.despine()\n",
    "ax.set_title('Number of Positions per State and Year')\n",
    "plt.xticks([2009., 2010., 2011., 2012., 2013., 2014., 2015., 2016., 2017., 2018., 2019., 2020.],\n",
    "           ['2009', '2010', '2011', '2012', '2013', '2014', '2015','2016','2017','2018','2019','2020'])\n",
    "plt.savefig(\"../out/figs/positions_lineplot.png\", bbox_inches='tight', dpi=1000)"
   ]
  },
  {
   "cell_type": "code",
   "execution_count": null,
   "id": "3e71ad69",
   "metadata": {},
   "outputs": [],
   "source": [
    "#PLOT: COUNT (BARPLOT)\n",
    "fig, ax = plt.subplots(figsize=(7, 4))\n",
    "p = sns.countplot(positions_sub, x=\"year\", hue=\"state\", stat=\"count\", palette=states_palette, gap=.15)\n",
    "sns.move_legend(p, \"upper center\", bbox_to_anchor=(0.5, 1.1), ncol=6,  frameon=False, title=None)\n",
    "ax.set_title('Number of Positions per State and Year', y = 1.1)\n",
    "sns.despine()\n",
    "plt.savefig(\"../out/figs/positions_barplot.png\", bbox_inches='tight', dpi=1000)"
   ]
  },
  {
   "cell_type": "code",
   "execution_count": 14,
   "id": "74a0a440",
   "metadata": {},
   "outputs": [
    {
     "data": {
      "image/png": "[encoded data removed]",
      "text/plain": [
       "<Figure size 800x350 with 1 Axes>"
      ]
     },
     "metadata": {},
     "output_type": "display_data"
    }
   ],
   "source": [
    "# PLOT: POSITIONS TYPE\n",
    "fig, ax = plt.subplots(figsize=(8, 3.5))\n",
    "p = sns.countplot(positions_sub, x=\"state\", hue=\"position_numeric\", stat=\"count\", palette=\"viridis\", gap =.1)\n",
    "sns.move_legend(p, \"upper center\",  bbox_to_anchor=(0.5, 1), ncol=3,  frameon = False, title=None)\n",
    "ax.set_title('Number of Positions per State and Type', y=1)\n",
    "sns.despine()\n",
    "plt.savefig(\"../out/figs/position_type.png\", bbox_inches='tight', dpi=1000)"
   ]
  },
  {
   "cell_type": "code",
   "execution_count": 69,
   "id": "fa801730",
   "metadata": {},
   "outputs": [
    {
     "name": "stdout",
     "output_type": "stream",
     "text": [
      "Number of bills with positions after removing outliers above 400: 70751\n",
      "Number of bills with counts above 400: 56\n",
      "Max value: 962\n"
     ]
    }
   ],
   "source": [
    "pos_counts = pd.DataFrame(positions_sub.value_counts([\"state_unified_bill_id\", \"state\"])).reset_index().rename(columns={'count':'position_count'})\n",
    "print(f\"Number of bills with positions after removing outliers above 400: {len(pos_counts[pos_counts[\"position_count\"]<400])}\")\n",
    "print(f\"Number of bills with counts above 400: {len(pos_counts)-70751}\\nMax value: {pos_counts[\"position_count\"].max()}\")\n"
   ]
  },
  {
   "cell_type": "code",
   "execution_count": 63,
   "id": "f548b19a",
   "metadata": {},
   "outputs": [
    {
     "data": {
      "image/png": "[encoded data removed]",
      "text/plain": [
       "<Figure size 1000x400 with 1 Axes>"
      ]
     },
     "metadata": {},
     "output_type": "display_data"
    }
   ],
   "source": [
    "fig, ax = plt.subplots(figsize=(10, 4))\n",
    "sns.boxplot(data=pos_counts[pos_counts[\"position_count\"]<400], \n",
    "            y=\"state\", x=\"position_count\", hue=\"state\", palette= states_palette, \n",
    "            fliersize =.1, width=0.5, linewidth=0.8)\n",
    "ax.set_title('Distribution of Position Counts per Bill', y=1.1)\n",
    "ax.set_xlabel(\"Position Count\")\n",
    "sns.despine()\n",
    "plt.savefig(\"../out/figs/position_dist.png\", bbox_inches='tight', dpi=1000)"
   ]
  },
  {
   "cell_type": "markdown",
   "id": "e5cb2261",
   "metadata": {},
   "source": [
    "##### BLOCKS"
   ]
  },
  {
   "cell_type": "code",
   "execution_count": null,
   "id": "ea15302f",
   "metadata": {},
   "outputs": [],
   "source": [
    "#BLOCKS\n",
    "positions_blocks = clean_blocks(blocks, positions_sub, states_lobby)\n",
    "print(f\"number of positions in total after cleaning: {len(positions_blocks)}\")\n",
    "print(f\"total number of unique blocks: {len(positions_blocks[\"block\"].unique())}\")"
   ]
  },
  {
   "cell_type": "code",
   "execution_count": null,
   "id": "a5f582d6",
   "metadata": {},
   "outputs": [],
   "source": [
    "#create block count df for overvoew of client dists\n",
    "block_counts = pd.DataFrame(positions_blocks.drop_duplicates(\"state_client_id\").value_counts(\"block\", sort=False)).reset_index()\n",
    "block_counts[\"state\"] = block_counts[\"block\"].apply(lambda x: x.split(\"_\")[0])"
   ]
  },
  {
   "cell_type": "code",
   "execution_count": null,
   "id": "c5f09242",
   "metadata": {},
   "outputs": [],
   "source": [
    "#PLOT CLIENTS PER BLOCK\n",
    "fig, ax = plt.subplots(figsize=(14, 4))\n",
    "p = sns.barplot(block_counts, x=\"block\", y=\"count\", hue=\"state\", palette=states_palette)\n",
    "sns.despine()\n",
    "sns.move_legend(p, \"lower center\",  bbox_to_anchor=(0.5, -0.3), ncol=6,  frameon=False, title=None)\n",
    "ax.set_title('Number of Clients per Block Assignment')\n",
    "plt.tick_params(axis=\"x\", labelsize=4, labelrotation=90)\n",
    "plt.savefig(\"../out/figs/clients_counts.png\", bbox_inches='tight', dpi=1000)"
   ]
  },
  {
   "cell_type": "markdown",
   "id": "08b287ab",
   "metadata": {},
   "source": [
    "##### MERGE DATASETS: \n",
    "bills_ide & positions_blocks"
   ]
  },
  {
   "cell_type": "code",
   "execution_count": null,
   "id": "9bcb8f74",
   "metadata": {},
   "outputs": [],
   "source": [
    "##prep block counts for merge:\n",
    "#block_array, block1_ls, bill_ls = extract_block_counts(bills_ide, positions_blocks)\n"
   ]
  },
  {
   "cell_type": "code",
   "execution_count": null,
   "id": "f1d3bde6",
   "metadata": {},
   "outputs": [],
   "source": [
    "\n"
   ]
  }
 ],
 "metadata": {
  "kernelspec": {
   "display_name": "env",
   "language": "python",
   "name": "python3"
  },
  "language_info": {
   "codemirror_mode": {
    "name": "ipython",
    "version": 3
   },
   "file_extension": ".py",
   "mimetype": "text/x-python",
   "name": "python",
   "nbconvert_exporter": "python",
   "pygments_lexer": "ipython3",
   "version": "3.12.3"
  }
 },
 "nbformat": 4,
 "nbformat_minor": 5
}
