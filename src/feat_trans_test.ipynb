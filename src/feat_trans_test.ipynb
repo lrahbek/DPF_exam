{
 "cells": [
  {
   "cell_type": "code",
   "execution_count": null,
   "id": "d9711cfc",
   "metadata": {},
   "outputs": [],
   "source": [
    "import os \n",
    "import pathlib\n",
    "import pickle as pkl\n",
    "import cloudpickle \n",
    "import pandas as pd\n",
    "import seaborn as sns\n",
    "import numpy as np\n",
    "import matplotlib.pyplot as plt\n",
    "import re\n",
    "from imblearn.under_sampling import RandomUnderSampler\n",
    "from imblearn.metrics import classification_report_imbalanced\n",
    "from sklearn.compose import ColumnTransformer, make_column_selector\n",
    "from sklearn.pipeline import Pipeline\n",
    "from sklearn.metrics import classification_report, RocCurveDisplay, average_precision_score, precision_recall_curve, PrecisionRecallDisplay, balanced_accuracy_score, ConfusionMatrixDisplay, roc_auc_score\n",
    "from sklearn.model_selection import train_test_split, LearningCurveDisplay, validation_curve\n",
    "from sklearn.preprocessing import OneHotEncoder, LabelEncoder, LabelBinarizer, StandardScaler, RobustScaler\n",
    "from sklearn.neural_network import MLPClassifier\n",
    "pd.set_option('display.max_columns', None)\n",
    "from bill_classification import *"
   ]
  },
  {
   "cell_type": "markdown",
   "id": "04c55fd3",
   "metadata": {},
   "source": [
    "- find best estimator via grid search \n",
    "- extract best estimator/params and fit on training data using validation_curve (to be able to plot)\n",
    "\n",
    "- predict X_test retreive: \n",
    "    - classification report \n",
    "    - balanced accuracy\n",
    "\n",
    "    \n",
    "- get coefs and investigate "
   ]
  },
  {
   "cell_type": "code",
   "execution_count": null,
   "id": "9dd20c41",
   "metadata": {},
   "outputs": [],
   "source": [
    "def eval_MLP(model_path, split_data_path):\n",
    "    \"\"\" \n",
    "    \n",
    "    \"\"\"\n",
    "    with open(model_path, 'rb') as file:\n",
    "        clf_pipeline_MLP, ct, X_train, y_train = pkl.load(file)\n",
    "    with open(test_path, 'rb') as file:\n",
    "        X_train, X_test, y_train, y_test, y_classes, bill_ls = pkl.load(file)\n",
    "\n",
    "    \n",
    "\n"
   ]
  },
  {
   "cell_type": "code",
   "execution_count": null,
   "id": "45191929",
   "metadata": {},
   "outputs": [],
   "source": [
    "#retreive model\n",
    "model_path = '../out/models/MLP_fit.pkl'\n",
    "with open(model_path, 'rb') as file:\n",
    "    clf_pipeline_MLP, ct, X_train, y_train = pkl.load(file)\n",
    "#retrreive defined data\n",
    "split_data_path =  \"../data/preprocessed/split_data.pkl\"\n",
    "with open(test_path, 'rb') as file:\n",
    "    X_train, X_test, y_train, y_test, y_classes, bill_ls = pkl.load(file)\n"
   ]
  },
  {
   "cell_type": "code",
   "execution_count": null,
   "id": "cf91052a",
   "metadata": {},
   "outputs": [],
   "source": [
    "#OBS is it a fitted model? do i ned to refit with the validatio curve what to do?\n",
    "MLP_best = clf_pipeline_MLP.named_steps.classifier.best_estimator_ #estimator - is it fit already??\n",
    "params_best = clf_pipeline_MLP.named_steps.classifier.best_params_ #best params\n",
    "\n",
    "#### define best estimator and refit on training data???\n",
    "\n",
    "#metrics and fit:\n",
    "y_pred = MLP_best.predict(X_test)\n",
    "print(classification_report(y_test, y_pred))\n",
    "print(f\"balanced accuracy: {round(balanced_accuracy_score(y_test, y_pred), 4)}\")\n",
    "print(f\"roc auc score: {round(roc_auc_score(y_test, y_pred, average=\"weighted\"), 4)}\")\n",
    "ConfusionMatrixDisplay.from_predictions(y_test, y_pred_nt, display_labels=[\"failed\", \"passed\"], normalize=\"true\")\n",
    "\n",
    "#val curve:\n",
    "train_scores, val_scores = validation_curve(\n",
    "    MLP_best, X_train, y_train, scoring = \"balanced_accuracy\")"
   ]
  },
  {
   "cell_type": "code",
   "execution_count": null,
   "id": "e9efaaf7",
   "metadata": {},
   "outputs": [],
   "source": []
  },
  {
   "cell_type": "code",
   "execution_count": 80,
   "id": "c1db3902",
   "metadata": {},
   "outputs": [
    {
     "name": "stdout",
     "output_type": "stream",
     "text": [
      "transformer\n",
      "count    408\n",
      "num        9\n",
      "cat        6\n",
      "bin        2\n",
      "Name: count, dtype: int64\n"
     ]
    },
    {
     "name": "stderr",
     "output_type": "stream",
     "text": [
      "/tmp/ipykernel_62937/2634969928.py:7: SettingWithCopyWarning: \n",
      "A value is trying to be set on a copy of a slice from a DataFrame.\n",
      "Try using .loc[row_indexer,col_indexer] = value instead\n",
      "\n",
      "See the caveats in the documentation: https://pandas.pydata.org/pandas-docs/stable/user_guide/indexing.html#returning-a-view-versus-a-copy\n",
      "  feature_coefs_count[[\"Block\", \"position\"]] = feature_coefs_count[\"feature\"].str.split(\"_\", expand=True)[[1,2]]\n",
      "/tmp/ipykernel_62937/2634969928.py:7: SettingWithCopyWarning: \n",
      "A value is trying to be set on a copy of a slice from a DataFrame.\n",
      "Try using .loc[row_indexer,col_indexer] = value instead\n",
      "\n",
      "See the caveats in the documentation: https://pandas.pydata.org/pandas-docs/stable/user_guide/indexing.html#returning-a-view-versus-a-copy\n",
      "  feature_coefs_count[[\"Block\", \"position\"]] = feature_coefs_count[\"feature\"].str.split(\"_\", expand=True)[[1,2]]\n"
     ]
    }
   ],
   "source": [
    "feature_coefs = pd.DataFrame(pd.Series(feature_names_notext).str.split(\"__\", expand=True))\n",
    "feature_coefs.rename(columns={0:\"transformer\", 1: 'feature'}, inplace=True)\n",
    "feature_coefs[\"coef\"] = LSVC_coef_notext.reshape(-1,)\n",
    "print(feature_coefs.value_counts(\"transformer\"))\n",
    "#subset counts\n",
    "feature_coefs_count = feature_coefs[feature_coefs[\"transformer\"]==\"count\"]\n",
    "feature_coefs_count[[\"Block\", \"position\"]] = feature_coefs_count[\"feature\"].str.split(\"_\", expand=True)[[1,2]]"
   ]
  },
  {
   "cell_type": "code",
   "execution_count": 82,
   "id": "b6575605",
   "metadata": {},
   "outputs": [
    {
     "data": {
      "image/png": "[encoded data removed]",
      "text/plain": [
       "<Figure size 1000x400 with 1 Axes>"
      ]
     },
     "metadata": {},
     "output_type": "display_data"
    }
   ],
   "source": [
    "fig, ax = plt.subplots(figsize=(10, 4))\n",
    "sns.barplot(feature_coefs[feature_coefs[\"transformer\"].isin([\"num\", \"cat\", \"bin\"])], \n",
    "            x=\"feature\", y=\"coef\", hue=\"transformer\", legend=None, palette=\"viridis\")\n",
    "sns.despine()\n",
    "plt.tick_params(axis=\"x\", labelsize=6)"
   ]
  }
 ],
 "metadata": {
  "kernelspec": {
   "display_name": "env",
   "language": "python",
   "name": "python3"
  },
  "language_info": {
   "codemirror_mode": {
    "name": "ipython",
    "version": 3
   },
   "file_extension": ".py",
   "mimetype": "text/x-python",
   "name": "python",
   "nbconvert_exporter": "python",
   "pygments_lexer": "ipython3",
   "version": "3.12.3"
  }
 },
 "nbformat": 4,
 "nbformat_minor": 5
}
