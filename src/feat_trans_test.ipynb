{
 "cells": [
  {
   "cell_type": "code",
   "execution_count": 16,
   "id": "d9711cfc",
   "metadata": {},
   "outputs": [],
   "source": [
    "import os \n",
    "import pathlib\n",
    "import pickle as pkl\n",
    "import cloudpickle \n",
    "#import pyarrow\n",
    "import pandas as pd\n",
    "import numpy as np\n",
    "import matplotlib.pyplot as plt\n",
    "#import itertools\n",
    "import re\n",
    "#import sklearn\n",
    "from sklearn.compose import ColumnTransformer, make_column_selector\n",
    "from sklearn.pipeline import Pipeline\n",
    "from sklearn.metrics import classification_report, RocCurveDisplay, average_precision_score, precision_recall_curve, PrecisionRecallDisplay\n",
    "from sklearn.linear_model import LogisticRegression \n",
    "from sklearn.model_selection import train_test_split, GridSearchCV\n",
    "from sklearn.preprocessing import OneHotEncoder, LabelEncoder, LabelBinarizer, StandardScaler, RobustScaler\n",
    "from sklearn.feature_extraction.text import CountVectorizer\n",
    "from sklearn.neural_network import MLPClassifier\n",
    "pd.set_option('display.max_columns', None)\n",
    "from bill_classification import *"
   ]
  },
  {
   "cell_type": "code",
   "execution_count": null,
   "id": "db61e5c4",
   "metadata": {},
   "outputs": [],
   "source": [
    "X_train, X_test, y_train, y_test, y_classes, bill_ls = split_features()"
   ]
  },
  {
   "cell_type": "code",
   "execution_count": null,
   "id": "d4a19db2",
   "metadata": {},
   "outputs": [],
   "source": []
  },
  {
   "cell_type": "code",
   "execution_count": null,
   "id": "459282c9",
   "metadata": {},
   "outputs": [
    {
     "name": "stdout",
     "output_type": "stream",
     "text": [
      "Fitting 5 folds for each of 27 candidates, totalling 135 fits\n"
     ]
    },
    {
     "name": "stderr",
     "output_type": "stream",
     "text": [
      "/work/DPF_exam/env/lib/python3.12/site-packages/sklearn/neural_network/_multilayer_perceptron.py:1124: DataConversionWarning: A column-vector y was passed when a 1d array was expected. Please change the shape of y to (n_samples, ), for example using ravel().\n",
      "  y = column_or_1d(y, warn=True)\n",
      "/work/DPF_exam/env/lib/python3.12/site-packages/sklearn/neural_network/_multilayer_perceptron.py:698: UserWarning: Training interrupted by user.\n",
      "  warnings.warn(\"Training interrupted by user.\")\n",
      "/work/DPF_exam/env/lib/python3.12/site-packages/sklearn/neural_network/_multilayer_perceptron.py:1124: DataConversionWarning: A column-vector y was passed when a 1d array was expected. Please change the shape of y to (n_samples, ), for example using ravel().\n",
      "  y = column_or_1d(y, warn=True)\n"
     ]
    }
   ],
   "source": [
    "MLP_pipeline_fit(X_train, y_train, \"../data/models/MLP_fit.pkl\")"
   ]
  },
  {
   "cell_type": "code",
   "execution_count": 5,
   "id": "71aef160",
   "metadata": {},
   "outputs": [],
   "source": [
    "#transformers\n",
    "categorical_transformer=Pipeline(\n",
    "    steps=[('encoder', OneHotEncoder(sparse_output=False))])\n",
    "multi_categorical_transformer=Pipeline(\n",
    "    steps=[('encoder', CountVectorizer(analyzer=lambda lst: lst))])\n",
    "binary_transformer=Pipeline(\n",
    "    steps=[('encoder', OneHotEncoder(sparse_output=False, drop=\"if_binary\"))])\n",
    "numeric_transformer = Pipeline(\n",
    "    steps=[(\"scaler\", StandardScaler())])\n",
    "count_transformer = Pipeline(\n",
    "    steps=[(\"scaler\", RobustScaler())])"
   ]
  },
  {
   "cell_type": "code",
   "execution_count": 6,
   "id": "c15a5845",
   "metadata": {},
   "outputs": [],
   "source": [
    "ct = ColumnTransformer(\n",
    "    transformers=[\n",
    "        (\"cat\", categorical_transformer, [\"state\"]),\n",
    "        (\"multi_cat\", multi_categorical_transformer, \"ncsl_metatopics\"),\n",
    "        (\"bin\", binary_transformer, [\"cha\", \"lobbied\"]),\n",
    "        (\"num\", numeric_transformer, make_column_selector(dtype_include=\"float64\")), \n",
    "        (\"count\", count_transformer, make_column_selector(dtype_include=\"int32\"))\n",
    "    ],\n",
    "    remainder='passthrough', \n",
    "    force_int_remainder_cols = False, sparse_threshold=0)"
   ]
  }
 ],
 "metadata": {
  "kernelspec": {
   "display_name": "env",
   "language": "python",
   "name": "python3"
  },
  "language_info": {
   "codemirror_mode": {
    "name": "ipython",
    "version": 3
   },
   "file_extension": ".py",
   "mimetype": "text/x-python",
   "name": "python",
   "nbconvert_exporter": "python",
   "pygments_lexer": "ipython3",
   "version": "3.12.3"
  }
 },
 "nbformat": 4,
 "nbformat_minor": 5
}
