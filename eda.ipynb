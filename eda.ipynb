{
 "cells": [
  {
   "cell_type": "code",
   "execution_count": 1,
   "id": "9e01695e",
   "metadata": {},
   "outputs": [],
   "source": [
    "## load packages\n",
    "import os \n",
    "import pathlib\n",
    "import gdown\n",
    "import pyarrow\n",
    "import pandas as pd\n",
    "import numpy as np\n",
    "import itertools\n",
    "import re"
   ]
  },
  {
   "cell_type": "code",
   "execution_count": null,
   "id": "c32fee24",
   "metadata": {},
   "outputs": [],
   "source": [
    "## download data from google drive dir\n",
    "path = pathlib.Path('data')\n",
    "path.mkdir(exist_ok=True)\n",
    "data_url = \"https://drive.google.com/drive/folders/1JLxwurbx0ys4DUDB2o-WCtWWsjisVi8L?usp=sharing\"\n",
    "gdown.download_folder(data_url, output = \"data\")"
   ]
  },
  {
   "cell_type": "code",
   "execution_count": 2,
   "id": "be48076d",
   "metadata": {},
   "outputs": [],
   "source": [
    "#load data\n",
    "block_as = pd.read_parquet(\"data/block_assignments.parquet\")\n",
    "positions = pd.read_parquet(\"data/positions.parquet\")\n",
    "clients = pd.read_parquet(\"data/clients.parquet\")\n",
    "bills = pd.read_parquet(\"data/bills.parquet\")"
   ]
  },
  {
   "cell_type": "code",
   "execution_count": null,
   "id": "421fc7b4",
   "metadata": {},
   "outputs": [
    {
     "name": "stdout",
     "output_type": "stream",
     "text": [
      "number of rows before dropping duplicates: 153220\n",
      "number of rows after dropping duplicates: 5373\n"
     ]
    }
   ],
   "source": [
    "#identify unique combis of metatopic, topic and database\n",
    "bills_topics = bills[[\"ncsl_metatopics\",\"ncsl_topics\"]].dropna(how = \"all\", ignore_index = True) #extract topics and metatopics\n",
    "#split both cols on \"; \"\n",
    "bills_topics[\"ncsl_topics\"] = bills_topics[\"ncsl_topics\"].str.split(\"; \")\n",
    "bills_topics[\"ncsl_metatopics\"] = bills_topics[\"ncsl_metatopics\"].str.split(\"; \")\n",
    "#explode both cols to make sure that each unique combo has a row\n",
    "bills_topics = bills_topics.explode(\"ncsl_topics\", ignore_index=True)\n",
    "bills_topics = bills_topics.explode(\"ncsl_metatopics\", ignore_index=True)\n",
    "#remove 'ncsl_metatopics\" from metatopic col\n",
    "bills_topics[\"ncsl_metatopics\"] = bills_topics[\"ncsl_metatopics\"].str.replace(\"ncsl_metatopic__\", \"\")\n",
    "#remove duplicates\n",
    "print(f\"number of rows before dropping duplicates: {len(bills_topics)}\") #153220\n",
    "bills_topics = bills_topics.drop_duplicates(ignore_index = True)\n",
    "print(f\"number of rows after dropping duplicates: {len(bills_topics)}\")  #5373"
   ]
  },
  {
   "cell_type": "code",
   "execution_count": null,
   "id": "fe8b0ff4",
   "metadata": {},
   "outputs": [],
   "source": [
    "#split topics into database and topics\n",
    "topics_split = bills_topics[\"ncsl_topics\"].str.split(\"__\", expand = True).rename(columns={1: \"database\", 3: \"ncsl_topic\"})\n",
    "print(topics_split[0].unique())                         #unique : ncsl_database & None\n",
    "print(topics_split[2].unique())                         #unique : ncsl_topic & None\n",
    "topics_split.drop(columns=[0,2], inplace=True)          #remove redunant cols\n",
    "bills_topics.drop(columns=[\"ncsl_topics\"], inplace=True)#remove ncsl_topic col from bills_topics_all\n",
    "\n",
    "#merge the topics split with bills_toppics\n",
    "bills_topics = bills_topics.merge(topics_split, left_index=True, right_index=True)"
   ]
  },
  {
   "cell_type": "code",
   "execution_count": 141,
   "id": "9ad86385",
   "metadata": {},
   "outputs": [
    {
     "name": "stdout",
     "output_type": "stream",
     "text": [
      "ncsl_metatopics                    ncsl_topic                  \n",
      "elections_and_campaigns            miscellaneous                   9\n",
      "civil_and_criminal_justice         other                           7\n",
      "education                          miscellaneous                   7\n",
      "civil_and_criminal_justice         miscellaneous                   7\n",
      "human_services                     miscellaneous                   6\n",
      "                                                                  ..\n",
      "environment_and_natural_resources  justice_system_related          1\n",
      "                                   job_access                      1\n",
      "                                   jails                           1\n",
      "                                   insurance_and_death_benefits    1\n",
      "                                   kinship_care                    1\n",
      "Name: count, Length: 5117, dtype: int64\n"
     ]
    }
   ],
   "source": [
    "print(bills_topics.value_counts(subset=[\"ncsl_metatopics\", \"ncsl_topic\"]))"
   ]
  },
  {
   "cell_type": "code",
   "execution_count": null,
   "id": "dde1c864",
   "metadata": {},
   "outputs": [
    {
     "name": "stdout",
     "output_type": "stream",
     "text": [
      "17\n"
     ]
    },
    {
     "data": {
      "text/plain": [
       "['military_and_veterans_affairs',\n",
       " 'environment_and_natural_resources',\n",
       " 'elections_and_campaigns',\n",
       " 'human_services',\n",
       " 'education',\n",
       " 'transportation',\n",
       " 'labor_and_employment',\n",
       " 'energy',\n",
       " 'financial_services',\n",
       " 'fiscal',\n",
       " 'quad_caucus',\n",
       " 'civil_and_criminal_justice',\n",
       " 'ethics',\n",
       " 'health',\n",
       " 'technology_and_communication',\n",
       " 'immigration',\n",
       " 'redistricting_and_census']"
      ]
     },
     "execution_count": 39,
     "metadata": {},
     "output_type": "execute_result"
    }
   ],
   "source": [
    "# identify unique ncsl metatopics\n",
    "bills_meta = bills[\"ncsl_metatopics\"].dropna()\n",
    "bills_meta_unique = bills_meta.str.split(\"; \").explode().unique()\n",
    "bills_meta_unique = [x.replace(\"ncsl_metatopic__\", \"\") for x in bills_meta_unique]\n",
    "print(len(bills_meta_unique)) #17\n",
    "bills_meta_unique"
   ]
  },
  {
   "cell_type": "code",
   "execution_count": null,
   "id": "cd2998d2",
   "metadata": {},
   "outputs": [
    {
     "name": "stdout",
     "output_type": "stream",
     "text": [
      "['ncsl_database' None]\n",
      "['ncsl_topic' None]\n",
      "number of rows before dropping duplicates: 6158\n",
      "number of rows after dropping duplicates: 6158\n"
     ]
    },
    {
     "data": {
      "text/html": [
       "<div>\n",
       "<style scoped>\n",
       "    .dataframe tbody tr th:only-of-type {\n",
       "        vertical-align: middle;\n",
       "    }\n",
       "\n",
       "    .dataframe tbody tr th {\n",
       "        vertical-align: top;\n",
       "    }\n",
       "\n",
       "    .dataframe thead th {\n",
       "        text-align: right;\n",
       "    }\n",
       "</style>\n",
       "<table border=\"1\" class=\"dataframe\">\n",
       "  <thead>\n",
       "    <tr style=\"text-align: right;\">\n",
       "      <th></th>\n",
       "      <th>ncsl_metatopics</th>\n",
       "      <th>database</th>\n",
       "      <th>ncsl_topic</th>\n",
       "    </tr>\n",
       "  </thead>\n",
       "  <tbody>\n",
       "    <tr>\n",
       "      <th>0</th>\n",
       "      <td>military_and_veterans_affairs</td>\n",
       "      <td>military_and_veterans_state_legislation_database</td>\n",
       "      <td>education</td>\n",
       "    </tr>\n",
       "    <tr>\n",
       "      <th>1</th>\n",
       "      <td>environment_and_natural_resources</td>\n",
       "      <td>None</td>\n",
       "      <td>None</td>\n",
       "    </tr>\n",
       "    <tr>\n",
       "      <th>2</th>\n",
       "      <td>elections_and_campaigns</td>\n",
       "      <td>state_elections_legislation_database</td>\n",
       "      <td>election_crimes</td>\n",
       "    </tr>\n",
       "    <tr>\n",
       "      <th>3</th>\n",
       "      <td>human_services</td>\n",
       "      <td>child_support_and_family_law_legislation_database</td>\n",
       "      <td>enforcement</td>\n",
       "    </tr>\n",
       "    <tr>\n",
       "      <th>4</th>\n",
       "      <td>education</td>\n",
       "      <td>education_legislation_bill_tracking</td>\n",
       "      <td>career_and_technical_education</td>\n",
       "    </tr>\n",
       "    <tr>\n",
       "      <th>...</th>\n",
       "      <td>...</td>\n",
       "      <td>...</td>\n",
       "      <td>...</td>\n",
       "    </tr>\n",
       "    <tr>\n",
       "      <th>6153</th>\n",
       "      <td>health; technology_and_communication</td>\n",
       "      <td>covid_19_archive_database</td>\n",
       "      <td>fiscal:_federal_relief_funding</td>\n",
       "    </tr>\n",
       "    <tr>\n",
       "      <th>6154</th>\n",
       "      <td>health; technology_and_communication</td>\n",
       "      <td>covid_19_archive_database</td>\n",
       "      <td>fiscal:_liability</td>\n",
       "    </tr>\n",
       "    <tr>\n",
       "      <th>6155</th>\n",
       "      <td>health; technology_and_communication</td>\n",
       "      <td>covid_19_archive_database</td>\n",
       "      <td>health:_access_and_coverage</td>\n",
       "    </tr>\n",
       "    <tr>\n",
       "      <th>6156</th>\n",
       "      <td>health; technology_and_communication</td>\n",
       "      <td>covid_19_archive_database</td>\n",
       "      <td>legislative_operations</td>\n",
       "    </tr>\n",
       "    <tr>\n",
       "      <th>6157</th>\n",
       "      <td>health; technology_and_communication</td>\n",
       "      <td>covid_19_archive_database</td>\n",
       "      <td>health:_general</td>\n",
       "    </tr>\n",
       "  </tbody>\n",
       "</table>\n",
       "<p>6158 rows × 3 columns</p>\n",
       "</div>"
      ],
      "text/plain": [
       "                           ncsl_metatopics  \\\n",
       "0            military_and_veterans_affairs   \n",
       "1        environment_and_natural_resources   \n",
       "2                  elections_and_campaigns   \n",
       "3                           human_services   \n",
       "4                                education   \n",
       "...                                    ...   \n",
       "6153  health; technology_and_communication   \n",
       "6154  health; technology_and_communication   \n",
       "6155  health; technology_and_communication   \n",
       "6156  health; technology_and_communication   \n",
       "6157  health; technology_and_communication   \n",
       "\n",
       "                                               database  \\\n",
       "0      military_and_veterans_state_legislation_database   \n",
       "1                                                  None   \n",
       "2                  state_elections_legislation_database   \n",
       "3     child_support_and_family_law_legislation_database   \n",
       "4                   education_legislation_bill_tracking   \n",
       "...                                                 ...   \n",
       "6153                          covid_19_archive_database   \n",
       "6154                          covid_19_archive_database   \n",
       "6155                          covid_19_archive_database   \n",
       "6156                          covid_19_archive_database   \n",
       "6157                          covid_19_archive_database   \n",
       "\n",
       "                          ncsl_topic  \n",
       "0                          education  \n",
       "1                               None  \n",
       "2                    election_crimes  \n",
       "3                        enforcement  \n",
       "4     career_and_technical_education  \n",
       "...                              ...  \n",
       "6153  fiscal:_federal_relief_funding  \n",
       "6154               fiscal:_liability  \n",
       "6155     health:_access_and_coverage  \n",
       "6156          legislative_operations  \n",
       "6157                 health:_general  \n",
       "\n",
       "[6158 rows x 3 columns]"
      ]
     },
     "execution_count": 121,
     "metadata": {},
     "output_type": "execute_result"
    }
   ],
   "source": []
  },
  {
   "cell_type": "code",
   "execution_count": null,
   "id": "46922f42",
   "metadata": {},
   "outputs": [
    {
     "data": {
      "text/plain": [
       "ncsl_metatopics    310\n",
       "database            53\n",
       "ncsl_topic         967\n",
       "dtype: int64"
      ]
     },
     "execution_count": 122,
     "metadata": {},
     "output_type": "execute_result"
    }
   ],
   "source": [
    "bills_topics_all.nunique()"
   ]
  },
  {
   "cell_type": "code",
   "execution_count": null,
   "id": "44d8cd63",
   "metadata": {},
   "outputs": [],
   "source": [
    "#bills_meta = [x.split(\"; \") for x in bills_meta] # split strings where there are multiple topics\n",
    "#bills_meta = list(itertools.chain.from_iterable(bills_meta)) # flatten list"
   ]
  }
 ],
 "metadata": {
  "kernelspec": {
   "display_name": "env",
   "language": "python",
   "name": "python3"
  },
  "language_info": {
   "codemirror_mode": {
    "name": "ipython",
    "version": 3
   },
   "file_extension": ".py",
   "mimetype": "text/x-python",
   "name": "python",
   "nbconvert_exporter": "python",
   "pygments_lexer": "ipython3",
   "version": "3.12.3"
  }
 },
 "nbformat": 4,
 "nbformat_minor": 5
}
