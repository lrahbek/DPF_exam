{
 "cells": [
  {
   "cell_type": "code",
   "execution_count": 111,
   "id": "9e01695e",
   "metadata": {},
   "outputs": [],
   "source": [
    "## load packages\n",
    "import os \n",
    "import pathlib\n",
    "import gdown\n",
    "import pyarrow\n",
    "import pandas as pd\n",
    "import numpy as np\n",
    "import itertools\n",
    "import re"
   ]
  },
  {
   "cell_type": "code",
   "execution_count": null,
   "id": "c32fee24",
   "metadata": {},
   "outputs": [],
   "source": [
    "## download data from google drive dir\n",
    "path = pathlib.Path('data')\n",
    "path.mkdir(exist_ok=True)\n",
    "data_url = \"https://drive.google.com/drive/folders/1JLxwurbx0ys4DUDB2o-WCtWWsjisVi8L?usp=sharing\"\n",
    "gdown.download_folder(data_url, output = \"data\")"
   ]
  },
  {
   "cell_type": "code",
   "execution_count": 16,
   "id": "be48076d",
   "metadata": {},
   "outputs": [],
   "source": [
    "#load data\n",
    "block_as = pd.read_parquet(\"data/block_assignments.parquet\")\n",
    "positions = pd.read_parquet(\"data/positions.parquet\")\n",
    "clients = pd.read_parquet(\"data/clients.parquet\")\n",
    "bills = pd.read_parquet(\"data/bills.parquet\")"
   ]
  },
  {
   "cell_type": "code",
   "execution_count": 132,
   "id": "dde1c864",
   "metadata": {},
   "outputs": [],
   "source": [
    "# identify unique ncsl metatopics\n",
    "bills_meta = bills[\"ncsl_metatopics\"].dropna()\n",
    "bills_meta_unique = bills_meta.str.split(\"; \").explode().unique()\n",
    "bills_meta_unique = [x.replace(\"ncsl_metatopic__\", \"\") for x in bills_meta_unique]"
   ]
  },
  {
   "cell_type": "code",
   "execution_count": 133,
   "id": "307b90d4",
   "metadata": {},
   "outputs": [
    {
     "data": {
      "text/plain": [
       "['military_and_veterans_affairs',\n",
       " 'environment_and_natural_resources',\n",
       " 'elections_and_campaigns',\n",
       " 'human_services',\n",
       " 'education',\n",
       " 'transportation',\n",
       " 'labor_and_employment',\n",
       " 'energy',\n",
       " 'financial_services',\n",
       " 'fiscal',\n",
       " 'quad_caucus',\n",
       " 'civil_and_criminal_justice',\n",
       " 'ethics',\n",
       " 'health',\n",
       " 'technology_and_communication',\n",
       " 'immigration',\n",
       " 'redistricting_and_census']"
      ]
     },
     "execution_count": 133,
     "metadata": {},
     "output_type": "execute_result"
    }
   ],
   "source": [
    "bills_meta_unique"
   ]
  },
  {
   "cell_type": "code",
   "execution_count": null,
   "id": "44d8cd63",
   "metadata": {},
   "outputs": [],
   "source": [
    "#bills_meta = [x.split(\"; \") for x in bills_meta] # split strings where there are multiple topics\n",
    "#bills_meta = list(itertools.chain.from_iterable(bills_meta)) # flatten list"
   ]
  }
 ],
 "metadata": {
  "kernelspec": {
   "display_name": "env",
   "language": "python",
   "name": "python3"
  },
  "language_info": {
   "codemirror_mode": {
    "name": "ipython",
    "version": 3
   },
   "file_extension": ".py",
   "mimetype": "text/x-python",
   "name": "python",
   "nbconvert_exporter": "python",
   "pygments_lexer": "ipython3",
   "version": "3.12.3"
  }
 },
 "nbformat": 4,
 "nbformat_minor": 5
}
